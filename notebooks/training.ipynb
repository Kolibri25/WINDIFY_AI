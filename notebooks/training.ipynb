{
  "cells": [
    {
      "cell_type": "markdown",
      "metadata": {
        "id": "bVm9dGoFLfRy"
      },
      "source": [
        "# Enviroment Setup"
      ]
    },
    {
      "cell_type": "code",
      "execution_count": 1,
      "metadata": {
        "id": "ooCjqs-pLfRz",
        "outputId": "32f6356d-e6cd-410f-b7bb-ea24be340fe5",
        "colab": {
          "base_uri": "https://localhost:8080/"
        }
      },
      "outputs": [
        {
          "output_type": "stream",
          "name": "stdout",
          "text": [
            "Cloning into 'WINDIFY_AI'...\n",
            "remote: Enumerating objects: 204, done.\u001b[K\n",
            "remote: Counting objects: 100% (29/29), done.\u001b[K\n",
            "remote: Compressing objects: 100% (23/23), done.\u001b[K\n",
            "remote: Total 204 (delta 10), reused 17 (delta 3), pack-reused 175 (from 1)\u001b[K\n",
            "Receiving objects: 100% (204/204), 61.67 MiB | 31.17 MiB/s, done.\n",
            "Resolving deltas: 100% (79/79), done.\n",
            "/content/WINDIFY_AI\n"
          ]
        }
      ],
      "source": [
        "!git clone https://github.com/Kolibri25/WINDIFY_AI\n",
        "%cd WINDIFY_AI"
      ]
    },
    {
      "cell_type": "code",
      "execution_count": 2,
      "metadata": {
        "id": "MpGoDVigLfRz",
        "outputId": "d4da69cc-3bd6-4a52-cdff-a5a2a4fe221e",
        "colab": {
          "base_uri": "https://localhost:8080/"
        }
      },
      "outputs": [
        {
          "output_type": "stream",
          "name": "stdout",
          "text": [
            "Collecting netCDF4==1.7.2 (from -r requirements.txt (line 1))\n",
            "  Downloading netCDF4-1.7.2-cp311-cp311-manylinux_2_17_x86_64.manylinux2014_x86_64.whl.metadata (1.8 kB)\n",
            "Collecting numpy==1.23.5 (from -r requirements.txt (line 2))\n",
            "  Downloading numpy-1.23.5-cp311-cp311-manylinux_2_17_x86_64.manylinux2014_x86_64.whl.metadata (2.3 kB)\n",
            "Collecting pandas==1.5.3 (from -r requirements.txt (line 3))\n",
            "  Downloading pandas-1.5.3-cp311-cp311-manylinux_2_17_x86_64.manylinux2014_x86_64.whl.metadata (11 kB)\n",
            "Collecting xarray==2023.6.0 (from -r requirements.txt (line 4))\n",
            "  Downloading xarray-2023.6.0-py3-none-any.whl.metadata (6.0 kB)\n",
            "Collecting scipy==1.10.1 (from -r requirements.txt (line 5))\n",
            "  Downloading scipy-1.10.1-cp311-cp311-manylinux_2_17_x86_64.manylinux2014_x86_64.whl.metadata (58 kB)\n",
            "\u001b[2K     \u001b[90m━━━━━━━━━━━━━━━━━━━━━━━━━━━━━━━━━━━━━━━━\u001b[0m \u001b[32m58.9/58.9 kB\u001b[0m \u001b[31m3.3 MB/s\u001b[0m eta \u001b[36m0:00:00\u001b[0m\n",
            "\u001b[?25hCollecting requests==2.28.1 (from -r requirements.txt (line 6))\n",
            "  Downloading requests-2.28.1-py3-none-any.whl.metadata (4.6 kB)\n",
            "Collecting matplotlib==3.6.2 (from -r requirements.txt (line 7))\n",
            "  Downloading matplotlib-3.6.2-cp311-cp311-manylinux_2_17_x86_64.manylinux2014_x86_64.whl.metadata (6.8 kB)\n",
            "Collecting dask==2023.6.0 (from -r requirements.txt (line 8))\n",
            "  Downloading dask-2023.6.0-py3-none-any.whl.metadata (3.6 kB)\n",
            "Collecting torch==1.13.0 (from -r requirements.txt (line 9))\n",
            "  Downloading torch-1.13.0-cp311-cp311-manylinux1_x86_64.whl.metadata (24 kB)\n",
            "\u001b[31mERROR: Ignored the following yanked versions: 0.1.6, 0.1.7, 0.1.8, 0.1.9, 0.2.0, 0.2.1, 0.2.2, 0.2.2.post2, 0.2.2.post3, 0.15.0\u001b[0m\u001b[31m\n",
            "\u001b[0m\u001b[31mERROR: Ignored the following versions that require a different python version: 1.21.2 Requires-Python >=3.7,<3.11; 1.21.3 Requires-Python >=3.7,<3.11; 1.21.4 Requires-Python >=3.7,<3.11; 1.21.5 Requires-Python >=3.7,<3.11; 1.21.6 Requires-Python >=3.7,<3.11; 1.6.2 Requires-Python >=3.7,<3.10; 1.6.3 Requires-Python >=3.7,<3.10; 1.7.0 Requires-Python >=3.7,<3.10; 1.7.1 Requires-Python >=3.7,<3.10; 1.7.2 Requires-Python >=3.7,<3.11; 1.7.3 Requires-Python >=3.7,<3.11; 1.8.0 Requires-Python >=3.8,<3.11; 1.8.0rc1 Requires-Python >=3.8,<3.11; 1.8.0rc2 Requires-Python >=3.8,<3.11; 1.8.0rc3 Requires-Python >=3.8,<3.11; 1.8.0rc4 Requires-Python >=3.8,<3.11; 1.8.1 Requires-Python >=3.8,<3.11\u001b[0m\u001b[31m\n",
            "\u001b[0m\u001b[31mERROR: Could not find a version that satisfies the requirement torchvision==0.14.0 (from versions: 0.15.1, 0.15.2, 0.16.0, 0.16.1, 0.16.2, 0.17.0, 0.17.1, 0.17.2, 0.18.0, 0.18.1, 0.19.0, 0.19.1, 0.20.0, 0.20.1, 0.21.0, 0.22.0, 0.22.1)\u001b[0m\u001b[31m\n",
            "\u001b[0m\u001b[31mERROR: No matching distribution found for torchvision==0.14.0\u001b[0m\u001b[31m\n",
            "\u001b[0m"
          ]
        }
      ],
      "source": [
        "!pip install -r requirements.txt"
      ]
    },
    {
      "cell_type": "code",
      "source": [
        "!pip install netCDF4"
      ],
      "metadata": {
        "id": "Ittq6D8fMZAx",
        "outputId": "0eb05339-2541-436a-cc7e-52b293b5205f",
        "colab": {
          "base_uri": "https://localhost:8080/"
        }
      },
      "execution_count": 3,
      "outputs": [
        {
          "output_type": "stream",
          "name": "stdout",
          "text": [
            "Collecting netCDF4\n",
            "  Using cached netCDF4-1.7.2-cp311-cp311-manylinux_2_17_x86_64.manylinux2014_x86_64.whl.metadata (1.8 kB)\n",
            "Collecting cftime (from netCDF4)\n",
            "  Downloading cftime-1.6.4.post1-cp311-cp311-manylinux_2_17_x86_64.manylinux2014_x86_64.whl.metadata (8.7 kB)\n",
            "Requirement already satisfied: certifi in /usr/local/lib/python3.11/dist-packages (from netCDF4) (2025.7.14)\n",
            "Requirement already satisfied: numpy in /usr/local/lib/python3.11/dist-packages (from netCDF4) (2.0.2)\n",
            "Downloading netCDF4-1.7.2-cp311-cp311-manylinux_2_17_x86_64.manylinux2014_x86_64.whl (9.3 MB)\n",
            "\u001b[2K   \u001b[90m━━━━━━━━━━━━━━━━━━━━━━━━━━━━━━━━━━━━━━━━\u001b[0m \u001b[32m9.3/9.3 MB\u001b[0m \u001b[31m48.2 MB/s\u001b[0m eta \u001b[36m0:00:00\u001b[0m\n",
            "\u001b[?25hDownloading cftime-1.6.4.post1-cp311-cp311-manylinux_2_17_x86_64.manylinux2014_x86_64.whl (1.4 MB)\n",
            "\u001b[2K   \u001b[90m━━━━━━━━━━━━━━━━━━━━━━━━━━━━━━━━━━━━━━━━\u001b[0m \u001b[32m1.4/1.4 MB\u001b[0m \u001b[31m55.8 MB/s\u001b[0m eta \u001b[36m0:00:00\u001b[0m\n",
            "\u001b[?25hInstalling collected packages: cftime, netCDF4\n",
            "Successfully installed cftime-1.6.4.post1 netCDF4-1.7.2\n"
          ]
        }
      ]
    },
    {
      "cell_type": "markdown",
      "metadata": {
        "id": "l4HyRa-LLfR0"
      },
      "source": [
        "## Import preprocessed data"
      ]
    },
    {
      "cell_type": "code",
      "execution_count": 4,
      "metadata": {
        "id": "DVUtsAHlLfR0",
        "outputId": "8af1e3d1-7499-41af-edf3-b373a05d449c",
        "colab": {
          "base_uri": "https://localhost:8080/"
        }
      },
      "outputs": [
        {
          "output_type": "stream",
          "name": "stdout",
          "text": [
            "Requirement already satisfied: gdown in /usr/local/lib/python3.11/dist-packages (5.2.0)\n",
            "Requirement already satisfied: beautifulsoup4 in /usr/local/lib/python3.11/dist-packages (from gdown) (4.13.4)\n",
            "Requirement already satisfied: filelock in /usr/local/lib/python3.11/dist-packages (from gdown) (3.18.0)\n",
            "Requirement already satisfied: requests[socks] in /usr/local/lib/python3.11/dist-packages (from gdown) (2.32.3)\n",
            "Requirement already satisfied: tqdm in /usr/local/lib/python3.11/dist-packages (from gdown) (4.67.1)\n",
            "Requirement already satisfied: soupsieve>1.2 in /usr/local/lib/python3.11/dist-packages (from beautifulsoup4->gdown) (2.7)\n",
            "Requirement already satisfied: typing-extensions>=4.0.0 in /usr/local/lib/python3.11/dist-packages (from beautifulsoup4->gdown) (4.14.1)\n",
            "Requirement already satisfied: charset-normalizer<4,>=2 in /usr/local/lib/python3.11/dist-packages (from requests[socks]->gdown) (3.4.2)\n",
            "Requirement already satisfied: idna<4,>=2.5 in /usr/local/lib/python3.11/dist-packages (from requests[socks]->gdown) (3.10)\n",
            "Requirement already satisfied: urllib3<3,>=1.21.1 in /usr/local/lib/python3.11/dist-packages (from requests[socks]->gdown) (2.5.0)\n",
            "Requirement already satisfied: certifi>=2017.4.17 in /usr/local/lib/python3.11/dist-packages (from requests[socks]->gdown) (2025.7.14)\n",
            "Requirement already satisfied: PySocks!=1.5.7,>=1.5.6 in /usr/local/lib/python3.11/dist-packages (from requests[socks]->gdown) (1.7.1)\n",
            "Retrieving folder contents\n",
            "Processing file 1C1VzpNBy2xFk2jlTaFWjkwgXGpSreW0m input_test.pt\n",
            "Processing file 1aXOZww5tdjJxwlVVB3lZuigIFSw1g_eH input_train.pt\n",
            "Processing file 1wm3xUALbPQ-R5dJks1ThsWqfYOVmCRYu input_val.pt\n",
            "Processing file 1MDh0coAyuOM18hE-jrb928hkz_M9lZaj target_train.pt\n",
            "Processing file 175qgeovyuaIXnWaD0A9bPPObek03xa_l target_val.pt\n",
            "Retrieving folder contents completed\n",
            "Building directory structure\n",
            "Building directory structure completed\n",
            "Downloading...\n",
            "From (original): https://drive.google.com/uc?id=1C1VzpNBy2xFk2jlTaFWjkwgXGpSreW0m\n",
            "From (redirected): https://drive.google.com/uc?id=1C1VzpNBy2xFk2jlTaFWjkwgXGpSreW0m&confirm=t&uuid=0c5b936b-6246-4191-bc6e-660d1be5bd5e\n",
            "To: /content/WINDIFY_AI/processed_data/input_test.pt\n",
            "100% 1.56G/1.56G [00:09<00:00, 167MB/s]\n",
            "Downloading...\n",
            "From (original): https://drive.google.com/uc?id=1aXOZww5tdjJxwlVVB3lZuigIFSw1g_eH\n",
            "From (redirected): https://drive.google.com/uc?id=1aXOZww5tdjJxwlVVB3lZuigIFSw1g_eH&confirm=t&uuid=e15eb78f-3912-4067-ae6c-dca9b19098f2\n",
            "To: /content/WINDIFY_AI/processed_data/input_train.pt\n",
            "100% 1.56G/1.56G [00:06<00:00, 259MB/s]\n",
            "Downloading...\n",
            "From (original): https://drive.google.com/uc?id=1wm3xUALbPQ-R5dJks1ThsWqfYOVmCRYu\n",
            "From (redirected): https://drive.google.com/uc?id=1wm3xUALbPQ-R5dJks1ThsWqfYOVmCRYu&confirm=t&uuid=72667165-963b-4a6f-aa40-50aaa1471097\n",
            "To: /content/WINDIFY_AI/processed_data/input_val.pt\n",
            "100% 1.56G/1.56G [00:06<00:00, 249MB/s]\n",
            "Downloading...\n",
            "From (original): https://drive.google.com/uc?id=1MDh0coAyuOM18hE-jrb928hkz_M9lZaj\n",
            "From (redirected): https://drive.google.com/uc?id=1MDh0coAyuOM18hE-jrb928hkz_M9lZaj&confirm=t&uuid=6651929c-7432-46fe-904e-ea78b125c6cc\n",
            "To: /content/WINDIFY_AI/processed_data/target_train.pt\n",
            "100% 1.56G/1.56G [00:07<00:00, 196MB/s]\n",
            "Downloading...\n",
            "From (original): https://drive.google.com/uc?id=175qgeovyuaIXnWaD0A9bPPObek03xa_l\n",
            "From (redirected): https://drive.google.com/uc?id=175qgeovyuaIXnWaD0A9bPPObek03xa_l&confirm=t&uuid=7581f6b9-6610-46f4-a085-d69b5715d42a\n",
            "To: /content/WINDIFY_AI/processed_data/target_val.pt\n",
            "100% 1.56G/1.56G [00:07<00:00, 198MB/s]\n",
            "Download completed\n"
          ]
        }
      ],
      "source": [
        "!pip install gdown\n",
        "!gdown --folder https://drive.google.com/drive/folders/1L-QsfJgqixDRWQHN6jxEkWdid0-YjZtX?usp=sharing"
      ]
    },
    {
      "cell_type": "code",
      "execution_count": 8,
      "metadata": {
        "id": "0Q7tAmkQLfR0",
        "outputId": "51201bc2-1330-4fee-882d-975fb6da5155",
        "colab": {
          "base_uri": "https://localhost:8080/"
        }
      },
      "outputs": [
        {
          "output_type": "stream",
          "name": "stdout",
          "text": [
            "[Errno 2] No such file or directory: 'WINDIFY_AI'\n",
            "/content/WINDIFY_AI\n"
          ]
        }
      ],
      "source": [
        "%cd WINDIFY_AI\n",
        "!mkdir -p /content/WINDIFY_AI/data/processed_data\n",
        "!mv processed_data/* /content/WINDIFY_AI/data/processed_data"
      ]
    },
    {
      "cell_type": "code",
      "execution_count": null,
      "metadata": {
        "id": "d7-JOKOwLfR0",
        "outputId": "01353ded-cf41-44c5-b774-862e10dbbd05",
        "colab": {
          "base_uri": "https://localhost:8080/"
        }
      },
      "outputs": [
        {
          "output_type": "stream",
          "name": "stdout",
          "text": [
            "/content/WINDIFY_AI\n",
            "Adding models path to sys.path: /content/WINDIFY_AI/src/models\n",
            "✅ Loaded input + target tensors: torch.Size([3960, 2, 240, 144]) torch.Size([3960, 2, 240, 144])\n",
            "NaNs in target: 0 out of 273715200\n",
            "📊 Input stats — min: -3.882857322692871 max: 5.101250648498535\n",
            "📊 Target stats — min: -4.207984447479248 max: 5.523556709289551\n",
            "✅ Starting training...\n",
            "Using device: cuda\n",
            "📦 Running epoch 1\n",
            "Epoch 1/50:   1% 8/990 [00:02<02:35,  6.33batch/s, loss=1.5]"
          ]
        }
      ],
      "source": [
        "%cd /content/WINDIFY_AI\n",
        "import sys\n",
        "sys.path.append('/content/WINDIFY_AI/scripts')\n",
        "sys.path.append('/content/WINDIFY_AI/src')\n",
        "!python3 train/run_training.py"
      ]
    }
  ],
  "metadata": {
    "language_info": {
      "name": "python"
    },
    "colab": {
      "provenance": [],
      "gpuType": "T4"
    },
    "kernelspec": {
      "name": "python3",
      "display_name": "Python 3"
    },
    "accelerator": "GPU"
  },
  "nbformat": 4,
  "nbformat_minor": 0
}