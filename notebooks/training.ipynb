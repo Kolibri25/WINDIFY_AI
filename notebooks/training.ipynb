{
  "cells": [
    {
      "cell_type": "markdown",
      "source": [
        "# Enviroment Setup"
      ],
      "metadata": {
        "id": "rloSiKJjMe9Y"
      }
    },
    {
      "cell_type": "code",
      "execution_count": null,
      "metadata": {
        "id": "CCemtZtzguFF",
        "outputId": "df4bca74-4f22-4b26-ef03-149a4539e808",
        "colab": {
          "base_uri": "https://localhost:8080/"
        }
      },
      "outputs": [
        {
          "output_type": "stream",
          "name": "stdout",
          "text": [
            "fatal: destination path 'WINDIFY_AI' already exists and is not an empty directory.\n"
          ]
        }
      ],
      "source": [
        "!git clone https://github.com/Kolibri25/WINDIFY_AI\n"
      ]
    },
    {
      "cell_type": "code",
      "source": [
        "cd WINDIFY_AI"
      ],
      "metadata": {
        "id": "6R2__N0AgvYx",
        "outputId": "8ac62efb-b0bb-4706-aa7f-761abcdebb21",
        "colab": {
          "base_uri": "https://localhost:8080/"
        }
      },
      "execution_count": null,
      "outputs": [
        {
          "output_type": "stream",
          "name": "stdout",
          "text": [
            "/content/WINDIFY_AI\n"
          ]
        }
      ]
    },
    {
      "cell_type": "markdown",
      "source": [
        "Setup environment"
      ],
      "metadata": {
        "id": "FffSfxEO_JIN"
      }
    },
    {
      "cell_type": "code",
      "source": [
        "!pip install -r requirements.txt"
      ],
      "metadata": {
        "id": "kQSVikNd_Ii0",
        "outputId": "842c551f-1d50-4834-b278-941e95831ffc",
        "colab": {
          "base_uri": "https://localhost:8080/"
        },
        "collapsed": true
      },
      "execution_count": null,
      "outputs": [
        {
          "output_type": "stream",
          "name": "stdout",
          "text": [
            "Requirement already satisfied: netCDF4==1.7.2 in /usr/local/lib/python3.11/dist-packages (from -r requirements.txt (line 1)) (1.7.2)\n",
            "Requirement already satisfied: numpy==1.23.5 in /usr/local/lib/python3.11/dist-packages (from -r requirements.txt (line 2)) (1.23.5)\n",
            "Requirement already satisfied: pandas==1.5.3 in /usr/local/lib/python3.11/dist-packages (from -r requirements.txt (line 3)) (1.5.3)\n",
            "Requirement already satisfied: xarray==2023.6.0 in /usr/local/lib/python3.11/dist-packages (from -r requirements.txt (line 4)) (2023.6.0)\n",
            "Requirement already satisfied: scipy==1.10.1 in /usr/local/lib/python3.11/dist-packages (from -r requirements.txt (line 5)) (1.10.1)\n",
            "Requirement already satisfied: requests==2.28.1 in /usr/local/lib/python3.11/dist-packages (from -r requirements.txt (line 6)) (2.28.1)\n",
            "Requirement already satisfied: matplotlib==3.6.2 in /usr/local/lib/python3.11/dist-packages (from -r requirements.txt (line 7)) (3.6.2)\n",
            "Requirement already satisfied: cftime in /usr/local/lib/python3.11/dist-packages (from netCDF4==1.7.2->-r requirements.txt (line 1)) (1.6.4.post1)\n",
            "Requirement already satisfied: certifi in /usr/local/lib/python3.11/dist-packages (from netCDF4==1.7.2->-r requirements.txt (line 1)) (2025.6.15)\n",
            "Requirement already satisfied: python-dateutil>=2.8.1 in /usr/local/lib/python3.11/dist-packages (from pandas==1.5.3->-r requirements.txt (line 3)) (2.9.0.post0)\n",
            "Requirement already satisfied: pytz>=2020.1 in /usr/local/lib/python3.11/dist-packages (from pandas==1.5.3->-r requirements.txt (line 3)) (2025.2)\n",
            "Requirement already satisfied: packaging>=21.3 in /usr/local/lib/python3.11/dist-packages (from xarray==2023.6.0->-r requirements.txt (line 4)) (24.2)\n",
            "Requirement already satisfied: charset-normalizer<3,>=2 in /usr/local/lib/python3.11/dist-packages (from requests==2.28.1->-r requirements.txt (line 6)) (2.1.1)\n",
            "Requirement already satisfied: idna<4,>=2.5 in /usr/local/lib/python3.11/dist-packages (from requests==2.28.1->-r requirements.txt (line 6)) (3.10)\n",
            "Requirement already satisfied: urllib3<1.27,>=1.21.1 in /usr/local/lib/python3.11/dist-packages (from requests==2.28.1->-r requirements.txt (line 6)) (1.26.20)\n",
            "Requirement already satisfied: contourpy>=1.0.1 in /usr/local/lib/python3.11/dist-packages (from matplotlib==3.6.2->-r requirements.txt (line 7)) (1.3.2)\n",
            "Requirement already satisfied: cycler>=0.10 in /usr/local/lib/python3.11/dist-packages (from matplotlib==3.6.2->-r requirements.txt (line 7)) (0.12.1)\n",
            "Requirement already satisfied: fonttools>=4.22.0 in /usr/local/lib/python3.11/dist-packages (from matplotlib==3.6.2->-r requirements.txt (line 7)) (4.58.4)\n",
            "Requirement already satisfied: kiwisolver>=1.0.1 in /usr/local/lib/python3.11/dist-packages (from matplotlib==3.6.2->-r requirements.txt (line 7)) (1.4.8)\n",
            "Requirement already satisfied: pillow>=6.2.0 in /usr/local/lib/python3.11/dist-packages (from matplotlib==3.6.2->-r requirements.txt (line 7)) (11.2.1)\n",
            "Requirement already satisfied: pyparsing>=2.2.1 in /usr/local/lib/python3.11/dist-packages (from matplotlib==3.6.2->-r requirements.txt (line 7)) (3.2.3)\n",
            "Requirement already satisfied: six>=1.5 in /usr/local/lib/python3.11/dist-packages (from python-dateutil>=2.8.1->pandas==1.5.3->-r requirements.txt (line 3)) (1.17.0)\n"
          ]
        }
      ]
    },
    {
      "cell_type": "code",
      "source": [
        "import scripts.download_barra as dnb\n",
        "import scripts.load_data as ld\n",
        "from scripts.model_input import create_uv_tensor, create_uv_tensor_era5, split_tensor\n"
      ],
      "metadata": {
        "id": "EMv_nCdHD_u2"
      },
      "execution_count": null,
      "outputs": []
    },
    {
      "cell_type": "markdown",
      "source": [
        "Below purely to document BARRA data download and import procedure:"
      ],
      "metadata": {
        "id": "wZ_7p29H-w3r"
      }
    },
    {
      "cell_type": "code",
      "source": [
        "'''\n",
        "\n",
        "# download barrac2 data from months of Oct, Nov, Dec, Jan from 1979 to 2024\n",
        "# lat/lon values and variables are hard-coded in the script\n",
        "\n",
        "dnb.main()\n",
        "\n",
        "# download era5\n",
        "# TODO: write script to download era5 data\n",
        "\n",
        "'''"
      ],
      "metadata": {
        "id": "mDEF4P5J-wNa"
      },
      "execution_count": null,
      "outputs": []
    },
    {
      "cell_type": "markdown",
      "source": [
        "Importing previously downloaded data using gdown from Google Drive folder"
      ],
      "metadata": {
        "id": "7O-0p6e5EqGI"
      }
    },
    {
      "cell_type": "code",
      "source": [
        "\n",
        "# combine files into single dataset per variable\n",
        "# BARRA-C2\n",
        "ld.load_and_save_barra_c2()\n",
        "# ERA5\n",
        "ld.load_and_save_era5()"
      ],
      "metadata": {
        "id": "Eo32avi0-5Ws"
      },
      "execution_count": null,
      "outputs": []
    },
    {
      "cell_type": "code",
      "source": [
        "!pip install gdown\n",
        "!gdown --folder https://drive.google.com/drive/folders/1xwqJ8Ku_US5Q7MRvExKC26TqCUroQ6QE?usp=sharing"
      ],
      "metadata": {
        "id": "0Z95sG3gE0ca",
        "collapsed": true,
        "colab": {
          "base_uri": "https://localhost:8080/"
        },
        "outputId": "97ac17cc-a2ad-47f1-faa3-9ee6e597bbc0"
      },
      "execution_count": 1,
      "outputs": [
        {
          "output_type": "stream",
          "name": "stdout",
          "text": [
            "Requirement already satisfied: gdown in /usr/local/lib/python3.11/dist-packages (5.2.0)\n",
            "Requirement already satisfied: beautifulsoup4 in /usr/local/lib/python3.11/dist-packages (from gdown) (4.13.4)\n",
            "Requirement already satisfied: filelock in /usr/local/lib/python3.11/dist-packages (from gdown) (3.18.0)\n",
            "Requirement already satisfied: requests[socks] in /usr/local/lib/python3.11/dist-packages (from gdown) (2.32.3)\n",
            "Requirement already satisfied: tqdm in /usr/local/lib/python3.11/dist-packages (from gdown) (4.67.1)\n",
            "Requirement already satisfied: soupsieve>1.2 in /usr/local/lib/python3.11/dist-packages (from beautifulsoup4->gdown) (2.7)\n",
            "Requirement already satisfied: typing-extensions>=4.0.0 in /usr/local/lib/python3.11/dist-packages (from beautifulsoup4->gdown) (4.14.0)\n",
            "Requirement already satisfied: charset-normalizer<4,>=2 in /usr/local/lib/python3.11/dist-packages (from requests[socks]->gdown) (3.4.2)\n",
            "Requirement already satisfied: idna<4,>=2.5 in /usr/local/lib/python3.11/dist-packages (from requests[socks]->gdown) (3.10)\n",
            "Requirement already satisfied: urllib3<3,>=1.21.1 in /usr/local/lib/python3.11/dist-packages (from requests[socks]->gdown) (2.4.0)\n",
            "Requirement already satisfied: certifi>=2017.4.17 in /usr/local/lib/python3.11/dist-packages (from requests[socks]->gdown) (2025.6.15)\n",
            "Requirement already satisfied: PySocks!=1.5.7,>=1.5.6 in /usr/local/lib/python3.11/dist-packages (from requests[socks]->gdown) (1.7.1)\n",
            "Retrieving folder contents\n",
            "Retrieving folder 1_rHNYO880eYBNB0w7ciNWKxCop2oq4Na ERA5\n",
            "Retrieving folder 1aMx8fvte7O34QJNiYFbA9InUIqaqYSU4 ERA5_1997_daily\n",
            "Processing file 150cm8X3zbPjB6vLBfc_lXhz69o_NUv-N 10m_v_component_of_wind_0_daily-mean.nc\n",
            "Processing file 1X0LPR6Fc0ruAnFUtfCbLd_XdXU6Hj3lw mean_sea_level_pressure_0_daily-mean.nc\n",
            "Processing file 16uuceEdQIuOa2_DqfBd-NpUtFhJbqKcw 10m_u_component_of_wind_stream-oper_daily-mean.nc\n",
            "Processing file 1-byITeSOvLZh4_PlLOOXkFpxQLn3Vst7 mean_wave_direction_1_daily-mean.nc\n",
            "Processing file 14PKWgeUU9ZM9hPPb4PavDz3KjlPT7SL_ 2m_temperature_stream-oper_daily-mean.nc\n",
            "Retrieving folder 1fxU9eG1R9n6yRAZWRJaDs7PPcHpqGwSi ERA5_2008_daily\n",
            "Processing file 1la2ORXptnilfGOHCE1uwmHb6ZllnEfso 10m_u_component_of_wind_stream-oper_daily-mean.nc\n",
            "Processing file 1dROXCeKB5tjrRY68YvJ1cNyoqITl9QV0 mean_wave_direction_1_daily-mean.nc\n",
            "Processing file 1FgJ8TJ_P9mnixFp5aUKiahZaUuWcGK3w mean_sea_level_pressure_0_daily-mean.nc\n",
            "Processing file 1DcNBfMAzWykYG015gkh1BHuURxJYe9TE 2m_temperature_stream-oper_daily-mean.nc\n",
            "Processing file 1FoztuuPXJC6Wf-wQbQ93pec5uMgNjh4c 10m_v_component_of_wind_0_daily-mean.nc\n",
            "Retrieving folder 15X8A5Lj-YIVoWtPEmWry7SSWEaG2olDd ERA5_2023_daily\n",
            "Processing file 12NCnZ4pHglQLESqOX4sehF0NQfJo-WPb 2m_temperature_stream-oper_daily-mean.nc\n",
            "Processing file 1TG4Ae8tmbL792c6-12MzzFlng8ELxn_U 10m_v_component_of_wind_0_daily-mean.nc\n",
            "Processing file 11QTeBFgBpi5U30l1PQzbilQNgf7EBRQA mean_wave_direction_1_daily-mean.nc\n",
            "Processing file 1Z7OCI1EdEJ6QcJx8ZV7ht682y-8QLG95 10m_u_component_of_wind_stream-oper_daily-mean.nc\n",
            "Processing file 1u6tXBzqSwi4pBRzUXVmpEu51JobIETXh mean_sea_level_pressure_0_daily-mean.nc\n",
            "Retrieving folder 1XclyRWWF-8m3ZA5vk1xyfVo8NCM_oGIf ERA5_1981_daily\n",
            "Processing file 1AXuCWwKexfDyar7CAvOA9n5hHL2fD8B2 2m_temperature_stream-oper_daily-mean.nc\n",
            "Processing file 11EeyNnZPr6WUe36AcPcGF4KFFfc3gQGt mean_wave_direction_1_daily-mean.nc\n",
            "Processing file 1brdXZwstEhwe6Rh93HA3hItQ8MhZfpVf 10m_u_component_of_wind_stream-oper_daily-mean.nc\n",
            "Processing file 17D4v6khgoWZpSyb1485CkOzz_n_v1lwt 10m_v_component_of_wind_0_daily-mean.nc\n",
            "Processing file 13hp5SGZvqY7TDx1bbLpXdKT6kpc2A2wu mean_sea_level_pressure_0_daily-mean.nc\n",
            "Retrieving folder 1OiYitdvji8RwxBxccbltcZ-2Q3aCy15p ERA5_1979_daily\n",
            "Processing file 1cOFYoMObdEW-zD4mwEBd9YstNn6xc89Q 10m_u_component_of_wind_stream-oper_daily-mean.nc\n",
            "Processing file 1Jiv4PvVURs-TiEBrkSHzwEIxFn0wO-aW mean_sea_level_pressure_0_daily-mean.nc\n",
            "Processing file 1vf5Fptpth3USI1U1M179YYeXLLOTsfgZ 2m_temperature_stream-oper_daily-mean.nc\n",
            "Processing file 1hYB7QISyWSDEUt5I5mwdkcE_KHKXein9 10m_v_component_of_wind_0_daily-mean.nc\n",
            "Processing file 1HRkEq2k0oM9hwMHZnC9qfexpGnP_8nrE mean_wave_direction_1_daily-mean.nc\n",
            "Retrieving folder 1y2UR9LccGR9cx6yZktNJfBZGMtQxlmPP ERA5_1989_daily\n",
            "Processing file 1RVtlavQYpRGO2WbH1rdbWV2vlv6qsX2G 10m_v_component_of_wind_0_daily-mean.nc\n",
            "Processing file 1O4PtCD6VJVYDfzCrqK-RANTNPJSL99dx 2m_temperature_stream-oper_daily-mean.nc\n",
            "Processing file 1bR2EadJoj_J0es3RjKciaojkSfaqGID7 mean_sea_level_pressure_0_daily-mean.nc\n",
            "Processing file 1ipkHj4kkFRR-3Wm3JHhWjmtJEKj7w1Hd 10m_u_component_of_wind_stream-oper_daily-mean.nc\n",
            "Processing file 1u4zNb2E9L2Ubk1VNFXXatM6MepydBuGA mean_wave_direction_1_daily-mean.nc\n",
            "Retrieving folder 10qxZNRvRnpYnSaCsmWx13eU-X1ASxibs ERA5_1985_daily\n",
            "Processing file 1-bEnhYOsfCjd4Tqs77NKVv3uiJmoJpM_ 10m_u_component_of_wind_stream-oper_daily-mean.nc\n",
            "Processing file 14k8WsLYYUfx63ctsto7YAGeAt4MDXV2B mean_sea_level_pressure_0_daily-mean.nc\n",
            "Processing file 1mpuxEMjjACnNpkt1YSxZUstXm6gq_2mJ 2m_temperature_stream-oper_daily-mean.nc\n",
            "Processing file 16AXNZx6E2X_jhYN3igsu849VBYjyLvf8 10m_v_component_of_wind_0_daily-mean.nc\n",
            "Processing file 1M_hfVoQ_qtGSfCLrR2hPNhiKHhdUC-bU mean_wave_direction_1_daily-mean.nc\n",
            "Retrieving folder 1RN63fFLsFo2PqEXpxVwbVLjsQJuTr_dQ ERA5_1987_daily\n",
            "Processing file 1KtCwsCqvMk11_cPx41gg4ThLbEwtuviU mean_wave_direction_1_daily-mean.nc\n",
            "Processing file 18uqt9iZlI-a7x2EqnQ6QgKtejmDBewO1 10m_u_component_of_wind_stream-oper_daily-mean.nc\n",
            "Processing file 1GL-TYBWgJbW13qhiKMBEBdv1NDrIJHNu mean_sea_level_pressure_0_daily-mean.nc\n",
            "Processing file 1qeWqFHpZgdzg9jAnMexZDcxCdLctIn0U 10m_v_component_of_wind_0_daily-mean.nc\n",
            "Processing file 1nwbbkhN5C4L1P1UI8rCuzodvVZqW_0Mq 2m_temperature_stream-oper_daily-mean.nc\n",
            "Retrieving folder 1VZASrD3ugCNpKfL0mOZb4Pe6WRkUVDY7 ERA5_2016_daily\n",
            "Processing file 1vbFzMeG_dFjcedmamb6tk0ScBGTxV9Bo 10m_v_component_of_wind_0_daily-mean.nc\n",
            "Processing file 1B6Bn3zN6omMoPTI3sizD0K_PHWrE0VGU 2m_temperature_stream-oper_daily-mean.nc\n",
            "Processing file 17ie3YDux3L2KlJeGQC4G2-856ari3UFG mean_sea_level_pressure_0_daily-mean.nc\n",
            "Processing file 1ubp-hubh7PcA1IdV7iW6VWPWUVhVxzLW 10m_u_component_of_wind_stream-oper_daily-mean.nc\n",
            "Processing file 1rr5Q8UiZ9eAwiBVPXQZLJ3gHaS8IAvti mean_wave_direction_1_daily-mean.nc\n",
            "Retrieving folder 1jpwaw0VnqOtSNC4MrOZZnr0Dv4-A61UX ERA5_2007_daily\n",
            "Processing file 1qK868VmTJVJlNVfo7RTOTOcxuT3xgOkg mean_wave_direction_1_daily-mean.nc\n",
            "Processing file 1kKBfKeMIuA1eGdND0dLtbOFtQb4EkoB0 10m_u_component_of_wind_stream-oper_daily-mean.nc\n",
            "Processing file 1DDUDPvfQlUsF6fRbkLwRzTsxeL_VHl6_ 10m_v_component_of_wind_0_daily-mean.nc\n",
            "Processing file 1hjE_cz6_t0DkmmkxgeMsyrV7RaJwfnUC 2m_temperature_stream-oper_daily-mean.nc\n",
            "Processing file 1oiozD0CBYnVEXsdH5rh-qO8umNccpfjY mean_sea_level_pressure_0_daily-mean.nc\n",
            "Retrieving folder 175IPiri0zOLPfD7U65_FCN4sDOAzkduu ERA5_1994_daily\n",
            "Processing file 1wPJIkkQJzML1X5W2ZFcN68bWhbN2OIhj 10m_v_component_of_wind_0_daily-mean.nc\n",
            "Processing file 1PqgyZzL9qVz1kK6BU3aITLJyThQn4y4O 2m_temperature_stream-oper_daily-mean.nc\n",
            "Processing file 1gig4_q_3T9g7VcLqK8Q0eJhVqA8R4KJ3 mean_sea_level_pressure_0_daily-mean.nc\n",
            "Processing file 1MKfBf3ST6B6mKHsuxCOsfSz701_EVi67 mean_wave_direction_1_daily-mean.nc\n",
            "Processing file 18Ve0jyTmF2iICzTEaEblQDHpeU_ga9hV 10m_u_component_of_wind_stream-oper_daily-mean.nc\n",
            "Retrieving folder 1Coruf9KeBod7keD36z0peNoyHunCH-tA ERA5_1982_daily\n",
            "Processing file 1i9kwqLijf5fHKUQzgXqg_EvxT_OI0dRU mean_wave_direction_1_daily-mean.nc\n",
            "Processing file 1YDD0O8Gmk5l-qVcMovqCo97-X4KlswEK 2m_temperature_stream-oper_daily-mean.nc\n",
            "Processing file 1CvqGvKSmb0u4HXdeFuNMXJxHDoltCqVP mean_sea_level_pressure_0_daily-mean.nc\n",
            "Processing file 1z6ztHFocq_YqCtjMr9QIzxVECN-4uuTH 10m_u_component_of_wind_stream-oper_daily-mean.nc\n",
            "Processing file 1typW0xbgiWs0JRHdFIuLi1Srcl1N6vpc 10m_v_component_of_wind_0_daily-mean.nc\n",
            "Retrieving folder 1QAaEqEiWL-OqtvlPpSXnfGnWu_gYNhq9 ERA5_2006_daily\n",
            "Processing file 1GIV4qEYCG9sd5MGuXuh1KOVa6O0cYjyS 10m_u_component_of_wind_stream-oper_daily-mean.nc\n",
            "Processing file 1kHoTCCl6aZJXMmzNXFpaBjj_9N2pjayi mean_sea_level_pressure_0_daily-mean.nc\n",
            "Processing file 1pgeXAFYG71cuX2XLmIR3nTQm7pYBSxd8 mean_wave_direction_1_daily-mean.nc\n",
            "Processing file 1_Y68axVruE5CGkRG8Fyv8X2KYbTqenxi 2m_temperature_stream-oper_daily-mean.nc\n",
            "Processing file 1yi08luPXF7NDAwcPKQlkV4sz2KVkhLC- 10m_v_component_of_wind_0_daily-mean.nc\n",
            "Retrieving folder 1Z3F5BxFCbzz4Mfe9pjOfhTn1saMmigyS ERA5_2001_daily\n",
            "Processing file 1iDO6De2MBDLaGAf9aq2IdYsD3f4z94TK 10m_u_component_of_wind_stream-oper_daily-mean.nc\n",
            "Processing file 1WTu5LyzzfTHEpjGyASaOYmdGaPIeioha mean_wave_direction_1_daily-mean.nc\n",
            "Processing file 1xBHfCoWrdqV8Y9SN5m0o-XHiVZNpGz78 mean_sea_level_pressure_0_daily-mean.nc\n",
            "Processing file 1A9_-3NnRdC7JKA2WMhNaczpYWiFSAT24 10m_v_component_of_wind_0_daily-mean.nc\n",
            "Processing file 19zFHCIxccbQFA6q03apNBUYJcrvO6vdh 2m_temperature_stream-oper_daily-mean.nc\n",
            "Retrieving folder 1L81v3ZVHF17Vq6v3UpebhWXqr2xksuzb ERA5_1998_daily\n",
            "Processing file 1z5jUZue9yDTqbYuD0M_W3vDciNF0l0Ri mean_sea_level_pressure_0_daily-mean.nc\n",
            "Processing file 1VEe56hwl3WCsgMFrLcBKzoI2p3LELnef 10m_v_component_of_wind_0_daily-mean.nc\n",
            "Processing file 1B5GzuGhveYX_et2BuH6fnjCvqD-5n9_L 2m_temperature_stream-oper_daily-mean.nc\n",
            "Processing file 1nG9Dm9BqjOqGLtWNFNuCvm9hBhcBrb05 10m_u_component_of_wind_stream-oper_daily-mean.nc\n",
            "Processing file 1jQa-SFpXvuEFeFMhMH6VZIw_rMvQJ3AH mean_wave_direction_1_daily-mean.nc\n",
            "Retrieving folder 1V3UGDvBxDtxcl9rMo082NkS_hFK94z0I ERA5_2012_daily\n",
            "Processing file 1IVwWX4jk2M99D7hw3cvvuLDNEp9tbBjc mean_sea_level_pressure_0_daily-mean.nc\n",
            "Processing file 11v6xMNQOJJfOZKl3LjDFRjTQpYPPPNDm 2m_temperature_stream-oper_daily-mean.nc\n",
            "Processing file 16E_QWd06iDdUIjHZLiD7a6ilTbKouMUJ 10m_v_component_of_wind_0_daily-mean.nc\n",
            "Processing file 1KyvJDgI8T0lVWNl_E_FxBtNsq4LE0vBJ mean_wave_direction_1_daily-mean.nc\n",
            "Processing file 1SrVCWablmK79nsx4O5ZhFojDDabnVD8o 10m_u_component_of_wind_stream-oper_daily-mean.nc\n",
            "Retrieving folder 1NySsAVs0Atc_vymFRl7tGaEBj_a6pLOy ERA5_1990_daily\n",
            "Processing file 1TxtKO6mTV-jx6bPVCsgy_WxZw-q9zvHz mean_wave_direction_1_daily-mean.nc\n",
            "Processing file 1mVQVGVsaOtOQpVitKP97Of9H6dJ0uGua 10m_v_component_of_wind_0_daily-mean.nc\n",
            "Processing file 1_FSy45BjpPwx7vrV-FrrpyruFpFJJaot 10m_u_component_of_wind_stream-oper_daily-mean.nc\n",
            "Processing file 1bZiBDr7lJXo4oSUVFM2BPLvSrGJvOhA- 2m_temperature_stream-oper_daily-mean.nc\n",
            "Processing file 10Z87LznceCnyeeb2LvSm86AAagaWDsyG mean_sea_level_pressure_0_daily-mean.nc\n",
            "Retrieving folder 1z8lN9s9Bkn1jPjh_YRzp4YWrRTcETTmq ERA5_2011_daily\n",
            "Processing file 1MLVtx1mi09j-o6Vxzootk-RBsvHpHXD8 mean_sea_level_pressure_0_daily-mean.nc\n",
            "Processing file 1B2p849SaM5OVVkiUj9KsMwg6gfuqlkoR mean_wave_direction_1_daily-mean.nc\n",
            "Processing file 1d1myLd7gGhCNPmX5b8gM-TixVHEMOEmF 2m_temperature_stream-oper_daily-mean.nc\n",
            "Retrieving folder 1Cxc4ti_Y5OwBR4HC-0aNjMwRDdqrtlx5 ERA5_1986_daily\n",
            "Processing file 1vp_TeTimCDVdnVCarEwg6y3ChtH_R5Vl 10m_v_component_of_wind_0_daily-mean.nc\n",
            "Processing file 1cral4dnHqlx7FxEA5DqIAYhs3spwpGoE mean_sea_level_pressure_0_daily-mean.nc\n",
            "Processing file 19zmQWIjfGr9hrDhdI2TQiQMhJQ6V1M3c 2m_temperature_stream-oper_daily-mean.nc\n",
            "Processing file 1JpIdpgkLvlNHUU74BBAbPQhzOV5Sg8fv 10m_u_component_of_wind_stream-oper_daily-mean.nc\n",
            "Processing file 1nYYbbbOTwGEhWUN-PTHDHJ7kz4iLoufB mean_wave_direction_1_daily-mean.nc\n",
            "Retrieving folder 1mcMR5NKwlzTa3YPPVsjSLkC0QZcCep44 ERA5_2013_daily\n",
            "Processing file 1HO22pQpYZvztvx491ffyt9JbmMcjkkbc 10m_v_component_of_wind_0_daily-mean.nc\n",
            "Processing file 1y5nCuNvHMMPiL8BQ1pXnYHW_pNHhpaTW mean_sea_level_pressure_0_daily-mean.nc\n",
            "Processing file 1qLgaxEzdC0UmWQM8BblcKyLNzncl5bU- mean_wave_direction_1_daily-mean.nc\n",
            "Processing file 1tQNJCKxvHk_2voGAoa6z7V4xsbiq8er9 10m_u_component_of_wind_stream-oper_daily-mean.nc\n",
            "Processing file 1-UHLGALIhJjpsug-hEJ9fGqOnG84fSVq 2m_temperature_stream-oper_daily-mean.nc\n",
            "Retrieving folder 18va7U2Ozc_b5rq60q7Mh4GlTiFJu_BYM ERA5_2018_daily\n",
            "Processing file 1VVRV-wEvrNKvwKMBNXTl1oe8Nj9nswC6 mean_sea_level_pressure_0_daily-mean.nc\n",
            "Processing file 12mayHeazOuSZ8rSNRt6UCmv0nrx17JZ3 mean_wave_direction_1_daily-mean.nc\n",
            "Processing file 1KmbbpYYL67id8wwRB-th-2q3IPBmBqIO 10m_u_component_of_wind_stream-oper_daily-mean.nc\n",
            "Processing file 1QsLYG8qQLFS1g6DvDnSm7sV_O7Yr5xU1 10m_v_component_of_wind_0_daily-mean.nc\n",
            "Processing file 16TTOXDsdWPtZdooUwFVmYHWDpKbAuPCP 2m_temperature_stream-oper_daily-mean.nc\n",
            "Retrieving folder 16ZTT8CTJS6AwRxR8918XekzsE3wc3yxf ERA5_2002_daily\n",
            "Processing file 1U2ntDYsLQYXhTqqZTGabNuU44ERqDl_w 10m_u_component_of_wind_stream-oper_daily-mean.nc\n",
            "Processing file 1rvDcQKRKKreMbgeMEEDMIsdXlXDZBs5P mean_wave_direction_1_daily-mean.nc\n",
            "Processing file 1oKcGuf7fz1zSG9RL624tFyN4oaYi2y6b 10m_v_component_of_wind_0_daily-mean.nc\n",
            "Processing file 1FPSsejAcQEicVRzA_fHKjMdIzIeS30jU 2m_temperature_stream-oper_daily-mean.nc\n",
            "Processing file 1Ng7Cy5vbh41LOX7Kie7HRpW3zlpTd9HL mean_sea_level_pressure_0_daily-mean.nc\n",
            "Retrieving folder 1vlojvTxSXDq841zp7OQtGoAj6y6WBTRr ERA5_2019_daily\n",
            "Processing file 14K6nXuoWPWd9AwxOXf2_PgdNyGvKITgk 2m_temperature_stream-oper_daily-mean.nc\n",
            "Processing file 1-OynydCj1Q567Z22T2Ue2NZewAONIwNv mean_sea_level_pressure_0_daily-mean.nc\n",
            "Processing file 1ola5LsIMDDT0Erw77-qL1EtHBaXWeO6R mean_wave_direction_1_daily-mean.nc\n",
            "Processing file 1EoNlr4KxnkTiKdJaVj0uOP1nj6crUuHu 10m_v_component_of_wind_0_daily-mean.nc\n",
            "Processing file 1pWlj5tAT4Naj1jXxbGuIyl9A9Qgp6fxp 10m_u_component_of_wind_stream-oper_daily-mean.nc\n",
            "Retrieving folder 1RVAjBw4t6-mWXqloeiGrrMsAv8RlDZjF ERA5_2017_daily\n",
            "Processing file 15crJMZu6ZAN5giHtF8gOhCfcW-60uzf- mean_wave_direction_1_daily-mean.nc\n",
            "Processing file 1sCc5SkX8zPBfglYlEicqB01iDD8LBvvP 10m_u_component_of_wind_stream-oper_daily-mean.nc\n",
            "Processing file 1nluEF9TDpKrBKeRvidRMbL6JRgGNYHzR 10m_v_component_of_wind_0_daily-mean.nc\n",
            "Processing file 1IomBbqKNl2Bwa4_FXvvu8PVw8Hpjkw5J mean_sea_level_pressure_0_daily-mean.nc\n",
            "Processing file 1nc9HCdZB1yAltQRXZ9UDjNKujvRf9YC- 2m_temperature_stream-oper_daily-mean.nc\n",
            "Retrieving folder 1H61BQ0VjarhB4yTEWK9TueFs3Z31W5fK ERA5_1991_daily\n",
            "Processing file 1eb11wp6KbEEENfblrQjseMwD95JQwfVn 10m_u_component_of_wind_stream-oper_daily-mean.nc\n",
            "Processing file 1Pp9syQDnfM7iA1M4Caq6cMa8PMxAOykJ 10m_v_component_of_wind_0_daily-mean.nc\n",
            "Processing file 1HObtXZ1Q5yU0diQbut0eoQjO4jCrw0-e 2m_temperature_stream-oper_daily-mean.nc\n",
            "Processing file 15h5tDff1234sKQ5UBb12tkjFTe3Zu711 mean_sea_level_pressure_0_daily-mean.nc\n",
            "Processing file 1W5Q3eqwswbLkf1yznWquzj6FcxcQsikI mean_wave_direction_1_daily-mean.nc\n",
            "Retrieving folder 12wRkjBA1vBBiXI7LTv3zodVnLjnP0mrk ERA5_2015_daily\n",
            "Processing file 1dSgruZ3_nMvgV7Pg-iNsgS_Eyuutg_bG mean_sea_level_pressure_0_daily-mean.nc\n",
            "Processing file 1R4QB6P-nADDddYsKHAtRY7tbEIW6dGF4 mean_wave_direction_1_daily-mean.nc\n",
            "Processing file 1DRmIO8-T4jJ4exWFynbQloZp7I9-qBVH 10m_v_component_of_wind_0_daily-mean.nc\n",
            "Processing file 15PgtyLjfs2Em7j7Xyiakosfh6eXUEkb1 10m_u_component_of_wind_stream-oper_daily-mean.nc\n",
            "Processing file 1p_u-Z4miAM8JFZtfTacaA2-31yq5-0NF 2m_temperature_stream-oper_daily-mean.nc\n",
            "Retrieving folder 1tBdiHMonzrcIbaKbgi9HKNHzsiEWBDyN ERA5_2000_daily\n",
            "Processing file 1LKjur2hYt23XEuYTy-cAe9SppZMSGhUd 10m_u_component_of_wind_stream-oper_daily-mean.nc\n",
            "Processing file 1z4_g9ZerMqevZDhykm4AUdecRy9b5DD3 2m_temperature_stream-oper_daily-mean.nc\n",
            "Processing file 1JzD9IuVO6jGHL-FdumjeVPhIs1TmzVli 10m_v_component_of_wind_0_daily-mean.nc\n",
            "Processing file 1nxJ3t5NX3ZbjC6eG85IThMJj64Lhp1Lh mean_sea_level_pressure_0_daily-mean.nc\n",
            "Processing file 1X0RarvhfCxY4xguv3Vls5R3ApZXIcfXl mean_wave_direction_1_daily-mean.nc\n",
            "Retrieving folder 1oZWJxJyl7dMzZ0I7AmhlYZPwX01qel90 ERA5_1984_daily\n",
            "Processing file 1TM8mkSrD647qVzd_OJ0U88_iX5sUIl2J mean_wave_direction_1_daily-mean.nc\n",
            "Processing file 1M2Lvu_WYDw1_8aYD1-S0Y6iIGhyA3pPU 2m_temperature_stream-oper_daily-mean.nc\n",
            "Processing file 1E3hAFt4rDzSYUrNlzXPhqng2ujORdGrk 10m_v_component_of_wind_0_daily-mean.nc\n",
            "Processing file 1czJzBgqaNIY4SyAtwjBJn2HzfQWrkWug 10m_u_component_of_wind_stream-oper_daily-mean.nc\n",
            "Processing file 1R8bqrk3L6CB0Mc2rm4lcL9GnVAZJElC- mean_sea_level_pressure_0_daily-mean.nc\n",
            "Retrieving folder 1kkQkv3bfVNGSC76GX78uj2KN3Cmqe_0w ERA5_2010_daily\n",
            "Processing file 1n1iCrstOInZhvA1USbNdHxjDrk-wC2ol mean_wave_direction_1_daily-mean.nc\n",
            "Processing file 1pKoYyXX02LoVqK4RV4qw1AwbJ3o6RhxV 2m_temperature_stream-oper_daily-mean.nc\n",
            "Processing file 15M_ueYzWZoRrrSjmk0HTi-PoVF2LsLof mean_sea_level_pressure_0_daily-mean.nc\n",
            "Processing file 1dNUo0LW0_qsDCr2DfpPAIxtbr5JD4X_V 10m_v_component_of_wind_0_daily-mean.nc\n",
            "Processing file 1bd3feqTW-YuVfZPv0Lzvqw4jNBfIvK0l 10m_u_component_of_wind_stream-oper_daily-mean.nc\n",
            "Retrieving folder 1vcim2CgAPCIb_ttw-MnQPUbRm5ZVrzui ERA5_1988_daily\n",
            "Processing file 1yNvNtqjnz0K0q2HIguQhSy8gv0KQG7cz 10m_v_component_of_wind_0_daily-mean.nc\n",
            "Processing file 1zc_0UBvX9YsgcLDNW0k_-LGSRMFFXSjx 2m_temperature_stream-oper_daily-mean.nc\n",
            "Processing file 1h9sQ-MbLss9MH6Jxm8i2K24ZXhism7wZ mean_wave_direction_1_daily-mean.nc\n",
            "Processing file 109Z-PDOia6mtu2kVTbYznOquYqpAOTtl 10m_u_component_of_wind_stream-oper_daily-mean.nc\n",
            "Processing file 16Z_udoCbibZCL6zfOud0lVV4GImPZYFf mean_sea_level_pressure_0_daily-mean.nc\n",
            "Retrieving folder 1tf8oXKPv21Ps7pGAnouK4PxBN3lDpM40 ERA5_1995_daily\n",
            "Processing file 1Qb_9NI55-aCEIEGp_g0YT-A2UCN8Vy_E 10m_u_component_of_wind_stream-oper_daily-mean.nc\n",
            "Processing file 16l6_nu7x3m5OgGckSx7MDyZDxalMih0h mean_sea_level_pressure_0_daily-mean.nc\n",
            "Processing file 1o4lMAeLEs21erGGXe-nrlHlWiH1pK2ft 10m_v_component_of_wind_0_daily-mean.nc\n",
            "Processing file 1AwsYjRzA9RQSU8oJY316jIYFNF5eiKfU 2m_temperature_stream-oper_daily-mean.nc\n",
            "Processing file 1EgNPEgZyFXZtjWfzJH5q-hSgYqE6CBs8 mean_wave_direction_1_daily-mean.nc\n",
            "Retrieving folder 1WWHdn1Ey3e2wPJoHLgvSihUWQ8Sspdbv ERA5_1992_daily\n",
            "Processing file 1fF6xnEs7qAWZ4842F8O9gwj3x0G-doaU mean_wave_direction_1_daily-mean.nc\n",
            "Processing file 1wpeEsdGClfj8POTcV0hyUcBwuGfYdMYl mean_sea_level_pressure_0_daily-mean.nc\n",
            "Processing file 1f2LriVHfOeKlp-rd9NT8OeN0i2DUNm-l 10m_v_component_of_wind_0_daily-mean.nc\n",
            "Processing file 1yrnXqA4--wlw_8KafHT0ndQkdZQm2ehP 10m_u_component_of_wind_stream-oper_daily-mean.nc\n",
            "Processing file 1fEUKXgnAQNmkOL4jiGgMeUWQRQP-1Kxp 2m_temperature_stream-oper_daily-mean.nc\n",
            "Retrieving folder 1BOzSdiqS7_yCZb4QrKsy6nXfzaWQ4aGe ERA5_1980_daily\n",
            "Processing file 1a7uVhZ2XSyVCNbb5evta1hKi1jnTyr-G 2m_temperature_stream-oper_daily-mean.nc\n",
            "Processing file 1n9QP6f0bAdXM2liwhfP8BQrxgTymJy0Z mean_wave_direction_1_daily-mean.nc\n",
            "Processing file 1ryOwQlMN8ORIxr9SGdgjRecFBwe0ci8w mean_sea_level_pressure_0_daily-mean.nc\n",
            "Processing file 1Z4qx7NvYA97n3MRXb2Iux5h3k5RHaAzw 10m_v_component_of_wind_0_daily-mean.nc\n",
            "Processing file 1oO4g2PJRNGS8cmO6w3h3ireqkD0aYq3a 10m_u_component_of_wind_stream-oper_daily-mean.nc\n",
            "Retrieving folder 1egHtTXCdpxwm0aFRjUvkDVEj2pTCyz_l ERA5_1999_daily\n",
            "Processing file 1qckcGSvUQQVINLYanX8BBGJUUrGg0CwD 2m_temperature_stream-oper_daily-mean.nc\n",
            "Processing file 1CbbL3gzn5nLXrwnSVla2TEXF4sESZJTY mean_sea_level_pressure_0_daily-mean.nc\n",
            "Processing file 1Q2i7M8ppdf2VLH0cZnL2GD0BNz86MVK4 10m_u_component_of_wind_stream-oper_daily-mean.nc\n",
            "Processing file 1Fll5_4meUSOKCI1tXAKNZhXMm_oR2wPI 10m_v_component_of_wind_0_daily-mean.nc\n",
            "Processing file 1Br7nab7Rgz_y7NkZe5Din4lDGCfoCOd_ mean_wave_direction_1_daily-mean.nc\n",
            "Retrieving folder 14t1e4rJw8ct4CCiCENZv6cKjdMNmFBvi ERA5_1983_daily\n",
            "Processing file 1sSNM2XsyLYJaHTqxAL9Km1XlbMholqso 10m_v_component_of_wind_0_daily-mean.nc\n",
            "Processing file 1Dp71Uqni8G6ZVSEgA4-EkoQZQMna2Rnq 10m_u_component_of_wind_stream-oper_daily-mean.nc\n",
            "Processing file 124IiE6FWdt_7o7kqHp2JznVRyBuDTH5n mean_wave_direction_1_daily-mean.nc\n",
            "Processing file 1KyCgDCRsDm5995hMqBEBaSGVeU9J-aXi 2m_temperature_stream-oper_daily-mean.nc\n",
            "Processing file 1ZF7u72EMpQL0ojTFgGBOzaE6-1fmr8UA mean_sea_level_pressure_0_daily-mean.nc\n",
            "Retrieving folder 1Mvdgq5BLrHnq0ezDvUw4eXtnAjsypBI2 ERA5_2014_daily\n",
            "Processing file 19Gu0CZD9MDfCL7bqDr416_JNKYDldOlu 10m_u_component_of_wind_stream-oper_daily-mean.nc\n",
            "Processing file 1g71avuWcui3QTXaEpar2O25r6c--rqnp mean_sea_level_pressure_0_daily-mean.nc\n",
            "Processing file 1H27J-YaCn_Ne_Fj_aA_Kyh1jJo-DEK59 mean_wave_direction_1_daily-mean.nc\n",
            "Processing file 13Zcw2M9vTv9ifTwGqPe_W090vT8R2QVt 10m_v_component_of_wind_0_daily-mean.nc\n",
            "Processing file 1PYWoXB01tif2Hs0uuI5AZhR9N7wDYaVm 2m_temperature_stream-oper_daily-mean.nc\n",
            "Retrieving folder 1dyFS02oiZEFFPvMp30o54rbO9sMpOWxe ERA5_2020_daily\n",
            "Processing file 1FEPNBE-fPHkY-w0eA5Jw3m8Iea7R4FaO 2m_temperature_stream-oper_daily-mean.nc\n",
            "Processing file 14B9g-UxfXHVuqt-w3Df82NjGCf4N78sZ mean_wave_direction_1_daily-mean.nc\n",
            "Processing file 1EoJx2Z4-xpPQU1KDUxv4bF-6i6wB7sHa 10m_v_component_of_wind_0_daily-mean.nc\n",
            "Processing file 1xCLwLvGsrhcGB9-Ied39W5-BOCGe865L 10m_u_component_of_wind_stream-oper_daily-mean.nc\n",
            "Processing file 1OTeFBV3zdQLAK4RkYXGz7INtUIukf-fR mean_sea_level_pressure_0_daily-mean.nc\n",
            "Retrieving folder 1vEXM_Rh_hCZm02zg5nrBD_xWpSsrZxOS ERA5_2024_daily\n",
            "Processing file 1COzPTq_vrO7-Zx9uPDhInTKdZAcrJCmD mean_sea_level_pressure_0_daily-mean.nc\n",
            "Processing file 1-WM3yKxbidYg5t6bnQENk9KFW4ifSVF3 mean_wave_direction_1_daily-mean.nc\n",
            "Processing file 1n6hdpsJI2ebkwcJCQzPRU2NxJRzF7ngz 10m_u_component_of_wind_stream-oper_daily-mean.nc\n",
            "Processing file 1hpzDBlaa8NB-CdFGgcrlFa5Ziapis-_X 10m_v_component_of_wind_0_daily-mean.nc\n",
            "Processing file 1uhLHKejVRAF1p_Fc7bzA6SQ2T_QxBK8c 2m_temperature_stream-oper_daily-mean.nc\n",
            "Retrieving folder 1dboSt8LakJnJfTewETl49pQ-fZaCACXy ERA5_1996_daily\n",
            "Processing file 1uSQYlILUvyPY8T3xihwLThsuZyfY-IcU mean_wave_direction_1_daily-mean.nc\n",
            "Processing file 1JCTFIEbZmPc4iUW7a23MnTW_ZZvdvY7p 2m_temperature_stream-oper_daily-mean.nc\n",
            "Processing file 1mBUlr9xyxs9A2MU0YlPIu9tmKVh_uHhA 10m_v_component_of_wind_0_daily-mean.nc\n",
            "Processing file 1Jb-Pn9o8zqrymIhVa46d_F4-fJWJNK8s mean_sea_level_pressure_0_daily-mean.nc\n",
            "Processing file 1N9oO6OBxwxxnvuyUgzlIZd_j3ja1ZkbW 10m_u_component_of_wind_stream-oper_daily-mean.nc\n",
            "Retrieving folder 1eD1b-BTFbge3upWNClYRtYKzH_523rXT ERA5_2009_daily\n",
            "Processing file 1LZk--_I14dG5urpmJohFOfHxw7JQ2IsO 10m_u_component_of_wind_stream-oper_daily-mean.nc\n",
            "Processing file 1RzydiJVTtjqvICvOQatXN_Afd2N_r2xn 2m_temperature_stream-oper_daily-mean.nc\n",
            "Processing file 1OgKo1CGnAqnszCQYTBdlMc9FfR5kmavB mean_sea_level_pressure_0_daily-mean.nc\n",
            "Processing file 1rE_j3jZR2uAxO19n4hlUd_tFN1DhxF7V 10m_v_component_of_wind_0_daily-mean.nc\n",
            "Processing file 1EM8_1G3YzhV51-bD6TOcSxlAVb-lQnot mean_wave_direction_1_daily-mean.nc\n",
            "Retrieving folder 1SZNv-bYOL5dgBlEpbcylFQhjN7emhr1d ERA5_2022_daily\n",
            "Processing file 1CrN3B-FpHLjzRXYOSEMF9OkNq8AEEg2- mean_sea_level_pressure_0_daily-mean.nc\n",
            "Processing file 1k_JQbXoiyPgEqdVTf9ULQlXukNUY2rG1 10m_v_component_of_wind_0_daily-mean.nc\n",
            "Processing file 1LdHmSjVdAvmP86ZISnkc8z4yTJkwfHFh 10m_u_component_of_wind_stream-oper_daily-mean.nc\n",
            "Processing file 1OjutLXaFeuO_Lw9lljqrbqe4ksY3RKIf mean_wave_direction_1_daily-mean.nc\n",
            "Processing file 1cj8XTrfAAW91oFG5-ZnqCBqD8Rhpn_cr 2m_temperature_stream-oper_daily-mean.nc\n",
            "Retrieving folder 1bu43cctVcm9TMQTGkq9McQia5qPE0iwQ ERA5_2003_daily\n",
            "Processing file 1BtLbkmfvZ0UB97XOlvkjh5FsV5LLrO7m mean_sea_level_pressure_0_daily-mean.nc\n",
            "Processing file 1h48aIpmSNzR6ocq6VSqVI13RUi_mS3GW 2m_temperature_stream-oper_daily-mean.nc\n",
            "Processing file 1rVRp5LE_648RDiT5whMgCsXQqTr6vdO6 10m_u_component_of_wind_stream-oper_daily-mean.nc\n",
            "Processing file 1x5JJq5gVkPsS_sNe3n4WoQgQegmHTVuW 10m_v_component_of_wind_0_daily-mean.nc\n",
            "Processing file 1g4kIntp7M_e7HVqngk0RrKIIEIXMZk2Q mean_wave_direction_1_daily-mean.nc\n",
            "Retrieving folder 1HZLCTTlcXClwrSnq8i5MSDtYhOVSWeNi ERA5_2021_daily\n",
            "Processing file 1l6dSsbz1V9h_rMRFsFlHAynSSMaWXWFw 10m_v_component_of_wind_0_daily-mean.nc\n",
            "Processing file 1oXN_F-4ne2_N0O3e1hOKPJd4sUsGkFEM 10m_u_component_of_wind_stream-oper_daily-mean.nc\n",
            "Processing file 1BXs9wGeXBzqMhs_QxY196ov3BSUQge8m mean_wave_direction_1_daily-mean.nc\n",
            "Processing file 14UHIZXTnWDGeyKjuYPrDO-QTW-ur7cx1 2m_temperature_stream-oper_daily-mean.nc\n",
            "Processing file 1dtazm8KbGU7PuJcPY5c9exqhXUxHYB6n mean_sea_level_pressure_0_daily-mean.nc\n",
            "Retrieving folder 1FyLLDPpCiWgrrtDgGfR5mNC28U7zEr38 ERA5_1993_daily\n",
            "Processing file 1GsDAYJU9TYFKlFXmnQr8n7s9RFIvOsId 2m_temperature_stream-oper_daily-mean.nc\n",
            "Processing file 1pGD5-DP6BRdHEXy-2vK9Xb3RVAB9gB_F 10m_v_component_of_wind_0_daily-mean.nc\n",
            "Processing file 1WSryvTu77dC4WqYbVut-xJbZKLLk1VXg mean_wave_direction_1_daily-mean.nc\n",
            "Processing file 1NyJ51Z042eUjwYqo150vX5AIqm0DsfuK 10m_u_component_of_wind_stream-oper_daily-mean.nc\n",
            "Processing file 13gMSReEtFRo27IRXvjcSplyxB2ZNcy_H mean_sea_level_pressure_0_daily-mean.nc\n",
            "Retrieving folder 1f2DGtE-oKAuXlnp2re9byp4UbMitIFOf barra_downloads\n",
            "Processing file 1HejvYbDFyFjvUj_8NSJpDrPUtDq2rysA vas_1979_01.nc\n",
            "Processing file 1Aw8XIlB5efy0iPaDyyRdxcXIBP3M9LBu uas_1979_01.nc\n",
            "Processing file 1usbRRfYEztuGG5sInoN51Oq2UKJwGWPP vas_1979_10.nc\n",
            "Processing file 1X_hykwkpNpCGht_sH8XDujOOZVm3nTcD uas_1979_10.nc\n",
            "Processing file 1kEYVDXLawn0yFI2QuZaeEwmg468TzWDv vas_1979_11.nc\n",
            "Processing file 1uLYbEs5dVfTbXD7xU_lkRMzS0WheqC8P uas_1979_11.nc\n",
            "Processing file 14RUb1EcAReJaFRd3H3GXsL6RTgN5pSEY vas_1979_12.nc\n",
            "Processing file 1M8GZJ9U5ko8HBCkiAtP-sY42nZVa5hOk uas_1979_12.nc\n",
            "Processing file 1oTT2VdPKsIq92UsE66lPYUjycsd5lVuf vas_1980_01.nc\n",
            "Processing file 170RLOLtwEgOp-kuYydvADn-6PhN5PAfz uas_1980_01.nc\n",
            "Processing file 175qhNNbl2hmaHXYbG8IHkzPULeg3HfCH vas_1980_10.nc\n",
            "Processing file 1p2zClaoDX1s3BlSLMWVOmKsenmAbN-sc uas_1980_10.nc\n",
            "Processing file 1gP4fdp4szxfdio7g40GIHJKVQy4s4Qw- vas_1980_11.nc\n",
            "Processing file 1G2k-BpaleyjIgZeRktUtx84a35molO1s uas_1980_11.nc\n",
            "Processing file 18QEKhvq1BbStNpb9zO_UrBVpXdIV1NHD vas_1980_12.nc\n",
            "Processing file 1Gitgsja87v2U6pEgCOxkuHvUIvz7R82U uas_1980_12.nc\n",
            "Processing file 1nnhJzpZsT0bi8dLNrFdQyPCjgXxR1oS3 vas_1981_01.nc\n",
            "Processing file 10mYauLpqf1-kBSDPcPKkBxJD48Vor64c uas_1981_01.nc\n",
            "Processing file 1J5V9N4kAzDU_nQeKlosjYV1KXCrbYxm8 vas_1981_10.nc\n",
            "Processing file 1HstMUqoD9ZHDDEJE2OK3yNpf2CK1eSxH uas_1981_10.nc\n",
            "Processing file 1GmegW1OSbudtX1qTiMB68UsZOZz2RtUY vas_1981_11.nc\n",
            "Processing file 1nZXy0SRVk5ppF-OjrOT5GGUizvj2Eo0R uas_1981_11.nc\n",
            "Processing file 1RKNhEdVXYU32k_-xUIHs9vxyNiCJcHe_ vas_1981_12.nc\n",
            "Processing file 1KiT7O0JMTtQIdC8aK6FkQcZMi1XOP2LU uas_1981_12.nc\n",
            "Processing file 1cEqJrjZTzv_E5tv-2UMHtsRZy_VOGorT vas_1982_01.nc\n",
            "Processing file 1SU-WGHM7X8qT6uz5PAp3nnbCbIHD-zjj uas_1982_01.nc\n",
            "Processing file 1cVdL5jnk1LVh4EBMW8Kp0ruJD93NFHUU vas_1982_10.nc\n",
            "Processing file 1cjKC4-h7bpWb4JjALbc6NfvcvrWVoma6 uas_1982_10.nc\n",
            "Processing file 15lWipKJ6ctcs5H-_Ww2tfaVk__1jWDxA vas_1982_11.nc\n",
            "Processing file 13gsrby2NfnseKoLzfBvUae0l6O7MmY_D uas_1982_11.nc\n",
            "Processing file 1CaX5c4ZhUTEjtMg-KVeroLKp40pQnkiD vas_1982_12.nc\n",
            "Processing file 1QsgX6234imFvK-Qsj7PVfHhEbcVFAS7q uas_1982_12.nc\n",
            "Processing file 1sPZ4PDAZQizxnI4E4csTnqy0CkbsV8ka vas_1983_01.nc\n",
            "Processing file 18MQVkELItxrCCGClwJR4jvhsl7-xW6aa uas_1983_01.nc\n",
            "Processing file 13eycaMTdbnvj4sIwCY2hl5-fg1fOsBAU vas_1983_10.nc\n",
            "Processing file 1ODcOzda8D4B7F8hMI18kXvt5VMhvLt9C uas_1983_10.nc\n",
            "Processing file 1KewhLPrK7_mJ78aseg3TNiYu5FqmxJUV vas_1983_11.nc\n",
            "Processing file 1jmU9KkeLl1ZYpsCPFrP9kbQ4iSz_26sX uas_1983_11.nc\n",
            "Processing file 1Ip3gR0EHs7nLs0S5V7zcahpqRDhuJcf1 vas_1983_12.nc\n",
            "Processing file 1kLJYHt6vZwGxKXLHtlBBsVB1CBq2vmta uas_1983_12.nc\n",
            "Processing file 1Uykvt7NylY96FT0vB6z5WYfpUxiV6yiU vas_1984_01.nc\n",
            "Processing file 1Igw93xPnCcwXpgSmz-VcNLH98DP22Oqq uas_1984_01.nc\n",
            "Processing file 1Mpg88KZgTWxDaMIGyuGa4-SyXYl2AgHa vas_1984_10.nc\n",
            "Processing file 1Td4LFrbBpPoq0tpEolpyUXt8pwYOMq-u uas_1984_10.nc\n",
            "Processing file 1jLD2Sp_y8itWAOGBfJAgpXMRwLeen4IE vas_1984_11.nc\n",
            "Processing file 1RtBhb6G1sQN7QfSewnE4i5Za1KaX6wJg uas_1984_11.nc\n",
            "Processing file 1qD_0EmDNbrgUU7nOhlThPCW4Gj1_Pvld vas_1984_12.nc\n",
            "Processing file 1N4ujxSjBrItlCWLZsPJ3aNwgBcP3AT0F uas_1984_12.nc\n",
            "Processing file 1m19ivMw5bUx9fN4Hs7QPEEQ4sgXoxezI vas_1985_01.nc\n",
            "Processing file 1sgXL8HuT55Qp_l2H7Q20_2mdaFfTmS9M uas_1985_01.nc\n",
            "Failed to retrieve folder contents:\n",
            "\n",
            "\tThe gdrive folder with url:\n",
            "\thttps://drive.google.com/drive/folders/1f2DGtE-\n",
            "\toKAuXlnp2re9byp4UbMitIFOf?hl=en has more than 50 files, gdrive can't\n",
            "\tdownload more than this limit.\n",
            "\n",
            "You can use `--remaining-ok` option to ignore this error.\n"
          ]
        }
      ]
    },
    {
      "cell_type": "markdown",
      "source": [],
      "metadata": {
        "id": "JHB-fSBwv4Q5"
      }
    },
    {
      "cell_type": "code",
      "source": [
        "!mv metfut_data/* /content/WINDIFY_AI/data/"
      ],
      "metadata": {
        "id": "-lKr0vQ6v1VL"
      },
      "execution_count": null,
      "outputs": []
    },
    {
      "cell_type": "code",
      "source": [
        "# load target data (BARRA-C2)\n",
        "\n",
        "uas_ds = xr.open_dataset('/content/WINDIFY_AI/data/BARRA-C2/uas_gesamt.nc')\n",
        "vas_ds = xr.open_dataset('/content/WINDIFY_AI/data/BARRA-C2/vas_gesamt.nc')\n",
        "\n",
        "# load input data (ERA5)\n",
        "\n",
        "era5_ds = xr.open_dataset('/content/WINDIFY_AI/data/ERA5/combined_era5.nc')"
      ],
      "metadata": {
        "id": "QEpkVf5yr2Ty"
      },
      "execution_count": null,
      "outputs": []
    },
    {
      "cell_type": "markdown",
      "source": [
        "# Data Preprocessing"
      ],
      "metadata": {
        "id": "vSeJUldbMjQe"
      }
    },
    {
      "cell_type": "markdown",
      "source": [
        "Steps for Target ie. BARRA-C2:\n",
        "\n",
        "1. Drop grid points to match model dimensions (divisible by 16).\n",
        "2. Normalise the data.\n"
      ],
      "metadata": {
        "id": "eq-QjBe-m133"
      }
    },
    {
      "cell_type": "markdown",
      "source": [
        "Steps for Input ie. ERA5\n",
        "\n",
        "1.   Drop grid points to match model dimensions (divisible by 16).\n",
        "2.   Regrid EAR5 to a high-resolution grid of BARRA-C2\n",
        "3.  Normalise the data.\n"
      ],
      "metadata": {
        "id": "KMM0GGSH1D7f"
      }
    },
    {
      "cell_type": "markdown",
      "source": [
        "Finally, we stack the input/target together as PyTorch tensors and split the data."
      ],
      "metadata": {
        "id": "WhM8QYTj3QEY"
      }
    },
    {
      "cell_type": "markdown",
      "source": [
        "## Target: BARRA-C2"
      ],
      "metadata": {
        "id": "KH0x6Yufrqx2"
      }
    },
    {
      "cell_type": "code",
      "source": [
        "# crop to make dimensions divisible by 16\n",
        "\n",
        "from scripts.crop_to_div16 import crop_to_multiple_of_16\n",
        "\n",
        "uas_ds = crop_to_multiple_of_16(uas_ds, lat_name='lat', lon_name='lon')\n",
        "vas_ds = crop_to_multiple_of_16(vas_ds, lat_name='lat', lon_name='lon')\n"
      ],
      "metadata": {
        "id": "y6BpIEUdrvi_"
      },
      "execution_count": null,
      "outputs": []
    },
    {
      "cell_type": "code",
      "source": [
        "# normalise the target data\n",
        "\n",
        "from scripts.normalize_data import normalize_dataset\n",
        "\n",
        "uas_ds, uas_mean, uas_std = normalize_data(uas_ds,\"uas\")\n",
        "vas_ds, vas_mean, vas_std = normalize_data(vas_ds,\"vas\")"
      ],
      "metadata": {
        "id": "_gwRuR1-3oRZ"
      },
      "execution_count": null,
      "outputs": []
    },
    {
      "cell_type": "markdown",
      "source": [
        "## Input: ERA5"
      ],
      "metadata": {
        "id": "Owb5KRxM5Fq7"
      }
    },
    {
      "cell_type": "code",
      "source": [
        "# regrid to barra grid\n",
        "\n",
        "era5_interp = era5_ds.interp(\n",
        "    lat=uas_ds.lat,\n",
        "    lon=uas_ds.lon,\n",
        "    method='nearest'\n",
        ")"
      ],
      "metadata": {
        "id": "GTquY7ZZ5I9p"
      },
      "execution_count": null,
      "outputs": []
    },
    {
      "cell_type": "code",
      "source": [
        "# normalise input data\n",
        "\n",
        "u10_ds, u10_mean, u10_std = normalize_data(era5_interp,\"u10\")[\"u10\"]\n",
        "v10_ds, v10_mean, v10_std = normalize_data(era5_interp,\"v10\")[\"v10\"]"
      ],
      "metadata": {
        "id": "rWMs_VyO5VSd"
      },
      "execution_count": null,
      "outputs": []
    },
    {
      "cell_type": "code",
      "source": [
        "# convert to PyTorch tensors\n",
        "\n",
        "target = mi.create_uv_tensor(uas_ds,vas_ds)\n",
        "input = mi.create_uv_tensor_era5(u10_ds,v10_ds)\n"
      ],
      "metadata": {
        "id": "dVEA0m8y7EQ9"
      },
      "execution_count": null,
      "outputs": []
    },
    {
      "cell_type": "code",
      "source": [
        "# check shapes\n",
        "\n",
        "print(target.shape)\n",
        "print(input.shape)"
      ],
      "metadata": {
        "id": "-OwrpaCT9joE"
      },
      "execution_count": null,
      "outputs": []
    },
    {
      "cell_type": "code",
      "source": [
        "# save in case of runtime shortage\n",
        "\n",
        "torch.save(target, 'target.pt')\n",
        "torch.save(input, 'input.pt')\n",
        "\n"
      ],
      "metadata": {
        "id": "FnBb_hlM9BMW"
      },
      "execution_count": null,
      "outputs": []
    },
    {
      "cell_type": "code",
      "source": [
        "# train/validation/test split\n",
        "\n",
        "x_train, x_val, x_test = split_tensor(x_tensor)\n",
        "y_train, y_val, y_test = split_tensor(y_tensor)"
      ],
      "metadata": {
        "id": "-vzXbYPR9UHn"
      },
      "execution_count": null,
      "outputs": []
    },
    {
      "cell_type": "markdown",
      "source": [],
      "metadata": {
        "id": "HffKdy7Y63S1"
      }
    }
  ],
  "metadata": {
    "kernelspec": {
      "display_name": "Python 3",
      "language": "python",
      "name": "python3"
    },
    "language_info": {
      "name": "python",
      "version": "3.9.6"
    },
    "colab": {
      "provenance": []
    }
  },
  "nbformat": 4,
  "nbformat_minor": 0
}